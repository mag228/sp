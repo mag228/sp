{
  "nbformat": 4,
  "nbformat_minor": 0,
  "metadata": {
    "colab": {
      "name": "sp.ipynb",
      "provenance": [],
      "collapsed_sections": [],
      "toc_visible": true
    },
    "kernelspec": {
      "name": "python3",
      "display_name": "Python 3"
    },
    "accelerator": "GPU"
  },
  "cells": [
    {
      "cell_type": "code",
      "metadata": {
        "id": "zG76EE4rFrFL",
        "colab": {
          "base_uri": "https://localhost:8080/",
          "height": 617
        },
        "outputId": "8249425c-693c-473f-e821-d75e7ee7da56"
      },
      "source": [
        "import numpy as np\n",
        "from matplotlib import pyplot as plt\n",
        "from numba import cuda\n",
        "import math\n",
        "from time import time\n",
        "from PIL import Image\n",
        "\n",
        "def add_salt_and_pepper(gb, prob):\n",
        "  rnd = np.random.rand(gb.shape[0], gb.shape[1])\n",
        "  noisy = gb.copy()\n",
        "  noisy[rnd < prob] = 0\n",
        "  noisy[rnd > 1 - prob] = 255\n",
        "  return noisy\n",
        "\n",
        "\n",
        "def median_filter(a):\n",
        "  b = a.copy()\n",
        "  start = time()\n",
        "  for i in range(2, len(a)-1):\n",
        "    for j in range(2, len(a[i])-1):\n",
        "      t=[0, 0, 0, 0, 0, 0, 0, 0, 0]\n",
        "      t[0], t[1], t[2], t[3], t[4], t[5], t[6], t[7], t[8] = a[i-1][j-1], a[i-1][j], a[i-1][j+1], a[i][j-1], a[i][j], a[i][j+1], a[i+1][j-1], a[i+1][j], a[i+1][j+1]\n",
        "      for k in range(8):\n",
        "        for l in range(8-k):\n",
        "          if t[l]>t[l+1]:\n",
        "            t[l], t[l+1] = t[l+1], t[l]\n",
        "      b[i][j]=t[(int)(len(t)/2)]\n",
        "  return b, time()-start\n",
        "\n",
        "@cuda.jit\n",
        "def gpu_median_filter(a, b):\n",
        "  i, j = cuda.grid(2)\n",
        "  t=cuda.local.array(shape=9, dtype=numba.int64)\n",
        "  t[0], t[1], t[2], t[3], t[4], t[5], t[6], t[7], t[8] = a[i-1][j-1], a[i-1][j], a[i-1][j+1], a[i][j-1], a[i][j], a[i][j+1], a[i+1][j-1], a[i+1][j], a[i+1][j+1]\n",
        "  for k in range(8):\n",
        "    for l in range(8-k):\n",
        "      if t[l]>t[l+1]:\n",
        "        t[l], t[l+1] = t[l+1], t[l]\n",
        "  b[i][j]=t[(int)(len(t)/2)]\n",
        "    \n",
        "def prepare_and_exec_gpu(a):\n",
        "  b = a.copy()\n",
        "  tread_number_block = 32\n",
        "\n",
        "  a_global = cuda.to_device(a)\n",
        "  b_global = cuda.to_device(b)\n",
        "    \n",
        "  threadsperblock = (tread_number_block, tread_number_block)\n",
        "  blockspergrid_x = int(math.ceil(a.shape[0] / threadsperblock[1]))\n",
        "  blockspergrid_y = int(math.ceil(b.shape[1] / threadsperblock[0]))\n",
        "  blockspergrid = (blockspergrid_x, blockspergrid_y)\n",
        "\n",
        "  start = time()\n",
        "  gpu_median_filter[blockspergrid, threadsperblock](a_global, b_global)\n",
        "  return b_global.copy_to_host(), time()-start \n",
        "\n",
        "def experiment(img_name, need_draw):\n",
        "  im=(Image.open(img_name)).convert('L')\n",
        "  if need_draw==True:\n",
        "    display(im)\n",
        "  img = np.array(im)\n",
        "\n",
        "  img = add_salt_and_pepper(img, 0.09)\n",
        "  if need_draw==True:\n",
        "    display(Image.fromarray(np.uint8(img)))\n",
        "\n",
        "  img2, ctime = median_filter(img)\n",
        "  if need_draw==True:\n",
        "    display(Image.fromarray(np.uint8(img2)))\n",
        "\n",
        "  img2, gtime = prepare_and_exec_gpu(img)\n",
        "  if need_draw==True:\n",
        "    display(Image.fromarray(np.uint8(img2)))\n",
        "  \n",
        "  n=len(img)*len(img[0])\n",
        "  print('количество элементов:', n)\n",
        "  print('cpu time', ctime)\n",
        "  print('gpu time', gtime)\n",
        "  print('ускорение', ctime/gtime)\n",
        "  print()\n",
        "  return ctime/gtime, n\n",
        "\n",
        "a1, n1 = experiment('img1.jpg', False)\n",
        "a2, n2 = experiment('img2.jpg', False)\n",
        "a3, n3 = experiment('img3.jpg', False)\n",
        "a4, n4 = experiment('img4.jpg', False)\n",
        "\n",
        "plt.plot([n1, n2, n3, n4], [a1, a2, a3, a4])\n",
        "plt.show()\n",
        "\n"
      ],
      "execution_count": null,
      "outputs": [
        {
          "output_type": "stream",
          "text": [
            "количество элементов: 153600\n",
            "cpu time 1.5526316165924072\n",
            "gpu time 0.30515432357788086\n",
            "ускорение 5.0880210327288635\n",
            "\n",
            "количество элементов: 480000\n",
            "cpu time 4.908632278442383\n",
            "gpu time 0.0009088516235351562\n",
            "ускорение 5400.917103882476\n",
            "\n",
            "количество элементов: 983040\n",
            "cpu time 10.268401622772217\n",
            "gpu time 0.0017161369323730469\n",
            "ускорение 5983.4395665462625\n",
            "\n",
            "количество элементов: 24000000\n",
            "cpu time 249.02591466903687\n",
            "gpu time 0.01624131202697754\n",
            "ускорение 15332.869306087698\n",
            "\n"
          ],
          "name": "stdout"
        },
        {
          "output_type": "display_data",
          "data": {
            "image/png": "[encoded data removed]",
            "text/plain": [
              "<Figure size 432x288 with 1 Axes>"
            ]
          },
          "metadata": {
            "tags": [],
            "needs_background": "light"
          }
        }
      ]
    },
    {
      "cell_type": "code",
      "metadata": {
        "id": "ICh_YTS3q1bX"
      },
      "source": [
        ""
      ],
      "execution_count": null,
      "outputs": []
    }
  ]
}